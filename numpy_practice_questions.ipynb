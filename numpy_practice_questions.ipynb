{
 "cells": [
  {
   "cell_type": "markdown",
   "id": "9fdf1f1a-4d9b-47f8-8056-63083e03d0b3",
   "metadata": {},
   "source": [
    "## Part 1: Array Creation & Attributes (The Fundamentals) "
   ]
  },
  {
   "cell_type": "code",
   "execution_count": 3,
   "id": "91f6e107-be56-434a-a57e-99a0e4366022",
   "metadata": {},
   "outputs": [],
   "source": [
    "# 1. Import the NumPy library with the alias np.\n",
    "import numpy as np"
   ]
  },
  {
   "cell_type": "code",
   "execution_count": 7,
   "id": "1bb1120c-9932-4634-9633-e6fb4a75ff40",
   "metadata": {},
   "outputs": [
    {
     "name": "stdout",
     "output_type": "stream",
     "text": [
      "[1 2 3 4 5]\n"
     ]
    }
   ],
   "source": [
    "# 2. Create a 1D NumPy array from the Python list [1, 2, 3, 4, 5]. \n",
    "arr = np.array([1,2,3,4,5])\n",
    "print(arr)"
   ]
  },
  {
   "cell_type": "code",
   "execution_count": 10,
   "id": "768589f3-b598-4c0a-8200-08a844ed2d67",
   "metadata": {},
   "outputs": [
    {
     "name": "stdout",
     "output_type": "stream",
     "text": [
      "[0. 0. 0. 0. 0. 0. 0. 0. 0. 0.]\n"
     ]
    }
   ],
   "source": [
    "# 3. Create a 1D array of 10 zeros.\n",
    "zero = np.zeros(10)\n",
    "print(zero)"
   ]
  },
  {
   "cell_type": "code",
   "execution_count": 11,
   "id": "6420e6b1-f0f3-4521-bfed-8ac28dac5b82",
   "metadata": {},
   "outputs": [
    {
     "name": "stdout",
     "output_type": "stream",
     "text": [
      "[[1. 1. 1.]\n",
      " [1. 1. 1.]\n",
      " [1. 1. 1.]]\n"
     ]
    }
   ],
   "source": [
    "# 4. Create a 3x3 array filled with ones.\n",
    "ones_arr = np.ones((3,3))\n",
    "print(ones_arr)"
   ]
  },
  {
   "cell_type": "code",
   "execution_count": 14,
   "id": "32509730-d9e2-4c6b-8998-c715ca1d6ae4",
   "metadata": {},
   "outputs": [
    {
     "name": "stdout",
     "output_type": "stream",
     "text": [
      "[10 12 14 16 18 20 22 24 26 28 30 32 34 36 38 40 42 44 46 48 50]\n"
     ]
    }
   ],
   "source": [
    "# 5. Create an array of all even integers from 10 to 50.\n",
    "even_int = np.arange(10,51,2)\n",
    "print(even_int)"
   ]
  },
  {
   "cell_type": "code",
   "execution_count": 17,
   "id": "3c1f0238-d490-4d61-a5b8-dee1c2f4d154",
   "metadata": {},
   "outputs": [
    {
     "name": "stdout",
     "output_type": "stream",
     "text": [
      "[[0 1 2]\n",
      " [3 4 5]\n",
      " [6 7 8]]\n"
     ]
    }
   ],
   "source": [
    "# 6. Create a 3x3 matrix with values ranging from 0 to 8.\n",
    "matrix = np.arange(9).reshape((3,3))\n",
    "print(matrix)"
   ]
  },
  {
   "cell_type": "code",
   "execution_count": 19,
   "id": "1e25132f-a5f0-4b55-88ae-368902a204fb",
   "metadata": {},
   "outputs": [
    {
     "name": "stdout",
     "output_type": "stream",
     "text": [
      "[[1. 0. 0. 0.]\n",
      " [0. 1. 0. 0.]\n",
      " [0. 0. 1. 0.]\n",
      " [0. 0. 0. 1.]]\n"
     ]
    }
   ],
   "source": [
    "# 7. Create a 4x4 identity matrix.\n",
    "arr = np.eye(4)\n",
    "print(arr)"
   ]
  },
  {
   "cell_type": "code",
   "execution_count": 21,
   "id": "9827e364-be3a-4e6a-bc81-18d0869e6ba6",
   "metadata": {},
   "outputs": [
    {
     "name": "stdout",
     "output_type": "stream",
     "text": [
      "[0.   0.25 0.5  0.75 1.  ]\n"
     ]
    }
   ],
   "source": [
    "# 8. Create an array of 5 numbers evenly spaced between 0 and 1.\n",
    "arr = np.linspace(0,1,5)\n",
    "print(arr)"
   ]
  },
  {
   "cell_type": "code",
   "execution_count": 23,
   "id": "9647686a-48e6-42ee-b002-66aeef9758fb",
   "metadata": {},
   "outputs": [
    {
     "name": "stdout",
     "output_type": "stream",
     "text": [
      "[[0.20909378 0.510412   0.68557168 0.8146567 ]\n",
      " [0.68659366 0.47725407 0.06268606 0.34508705]\n",
      " [0.95462121 0.84044771 0.64107879 0.62095325]]\n"
     ]
    }
   ],
   "source": [
    "# 9. Create a 3x4 array filled with random numbers between 0 and 1.\n",
    "arr = np.random.rand(3,4)\n",
    "print(arr)"
   ]
  },
  {
   "cell_type": "code",
   "execution_count": 26,
   "id": "03b0e82e-8ccc-43f5-872e-c3c08739c40e",
   "metadata": {},
   "outputs": [
    {
     "name": "stdout",
     "output_type": "stream",
     "text": [
      "[[41 34 15 51 95]\n",
      " [47 27  5 39 12]\n",
      " [ 6 24 83 78  6]\n",
      " [61 39 67 54 35]\n",
      " [40  4 56 27  3]]\n"
     ]
    }
   ],
   "source": [
    "# 10. Create a 5x5 array with random integers from 1 to 100.\n",
    "arr = np.random.randint(1,101, size=(5,5))\n",
    "print(arr)"
   ]
  },
  {
   "cell_type": "code",
   "execution_count": 27,
   "id": "2a3240dd-b11e-4b1a-ad4a-7b6ef678d6e2",
   "metadata": {},
   "outputs": [
    {
     "data": {
      "text/plain": [
       "(5, 5)"
      ]
     },
     "execution_count": 27,
     "metadata": {},
     "output_type": "execute_result"
    }
   ],
   "source": [
    "# 11. Given the array arr = np.arange(25).reshape(5, 5), find its shape.\n",
    "arr = np.arange(25).reshape(5, 5)  \n",
    "arr.shape"
   ]
  },
  {
   "cell_type": "code",
   "execution_count": 28,
   "id": "35b8915c-3808-4f08-9d4a-0be9fcd14231",
   "metadata": {},
   "outputs": [
    {
     "data": {
      "text/plain": [
       "dtype('int64')"
      ]
     },
     "execution_count": 28,
     "metadata": {},
     "output_type": "execute_result"
    }
   ],
   "source": [
    "# 12. For the same array arr, find its data type.\n",
    "arr.dtype"
   ]
  },
  {
   "cell_type": "code",
   "execution_count": 30,
   "id": "58f68db8-4199-4138-93f6-484242456277",
   "metadata": {},
   "outputs": [
    {
     "data": {
      "text/plain": [
       "25"
      ]
     },
     "execution_count": 30,
     "metadata": {},
     "output_type": "execute_result"
    }
   ],
   "source": [
    "# 13. For the same array arr, find the total number of elements. \n",
    "arr.size"
   ]
  },
  {
   "cell_type": "code",
   "execution_count": 32,
   "id": "ae01f213-d69e-420e-bce9-3fea07125c65",
   "metadata": {},
   "outputs": [
    {
     "name": "stdout",
     "output_type": "stream",
     "text": [
      "[1. 2. 3.]\n"
     ]
    }
   ],
   "source": [
    "# 14. Create the array [1, 2, 3] but make sure its data type is float. \n",
    "arr = np.array([1,2,3], dtype=float)\n",
    "print(arr)"
   ]
  },
  {
   "cell_type": "code",
   "execution_count": 33,
   "id": "b7112729-0844-4812-bcb3-d8c0fe0350ba",
   "metadata": {},
   "outputs": [
    {
     "name": "stdout",
     "output_type": "stream",
     "text": [
      "[1. 2. 3.]\n"
     ]
    }
   ],
   "source": [
    "# 15. Convert the data type of an existing integer array to float. \n",
    "arr = np.array([1,2,3])\n",
    "float_arr = arr.astype(float)\n",
    "print(float_arr)"
   ]
  },
  {
   "cell_type": "markdown",
   "id": "8ac64238-b8e5-484f-b09e-84548478a918",
   "metadata": {},
   "source": [
    "## Part 2: Indexing & Slicing (Accessing Your Data) "
   ]
  },
  {
   "cell_type": "code",
   "execution_count": 79,
   "id": "d22083b7-8030-4d25-aeeb-c6b8e24fc615",
   "metadata": {},
   "outputs": [],
   "source": [
    "arr_1d = np.arange(10) \n",
    "arr_2d = np.array([[1, 2, 3], \n",
    "                   [4, 5, 6], \n",
    "                   [7, 8, 9]]) "
   ]
  },
  {
   "cell_type": "code",
   "execution_count": 36,
   "id": "d7ba09b6-586f-481f-be6b-1c276a95eef2",
   "metadata": {},
   "outputs": [
    {
     "name": "stdout",
     "output_type": "stream",
     "text": [
      "0\n"
     ]
    }
   ],
   "source": [
    "# 16. From arr_1d, get the first element.\n",
    "arr = arr_1d[0]\n",
    "print(arr)"
   ]
  },
  {
   "cell_type": "code",
   "execution_count": 43,
   "id": "2e084b5b-1820-4d72-a2c9-81ce5621035b",
   "metadata": {},
   "outputs": [
    {
     "name": "stdout",
     "output_type": "stream",
     "text": [
      "9\n"
     ]
    }
   ],
   "source": [
    "# 17. From arr_1d, get the last element.\n",
    "arr = arr_1d[-1]\n",
    "print(arr)"
   ]
  },
  {
   "cell_type": "code",
   "execution_count": 44,
   "id": "ef72e2f6-cb24-4f96-97a9-4c96ffcc7fe0",
   "metadata": {},
   "outputs": [
    {
     "name": "stdout",
     "output_type": "stream",
     "text": [
      "[2 3 4 5]\n"
     ]
    }
   ],
   "source": [
    "# 18. From arr_1d, get the elements from index 2 up to index 5.\n",
    "arr = arr_1d[2:6]\n",
    "print(arr)"
   ]
  },
  {
   "cell_type": "code",
   "execution_count": 45,
   "id": "0a428bb7-8a67-44f4-95ba-3fff3269b726",
   "metadata": {},
   "outputs": [
    {
     "name": "stdout",
     "output_type": "stream",
     "text": [
      "[9 8 7 6 5 4 3 2 1 0]\n"
     ]
    }
   ],
   "source": [
    "# 19. From arr_1d, get all elements in reverse order. \n",
    "arr = arr_1d[::-1]\n",
    "print(arr)"
   ]
  },
  {
   "cell_type": "code",
   "execution_count": 46,
   "id": "7dceba81-6394-4439-b685-ca69f0617c11",
   "metadata": {},
   "outputs": [
    {
     "name": "stdout",
     "output_type": "stream",
     "text": [
      "6\n"
     ]
    }
   ],
   "source": [
    "# 20. From arr_2d, get the element at row 1, column 2 (which is 6).\n",
    "arr = arr_2d[1,2]\n",
    "print(arr)"
   ]
  },
  {
   "cell_type": "code",
   "execution_count": 47,
   "id": "8ced37ab-4d65-49ba-a2ea-c71c5f197eb1",
   "metadata": {},
   "outputs": [
    {
     "name": "stdout",
     "output_type": "stream",
     "text": [
      "[1 2 3]\n"
     ]
    }
   ],
   "source": [
    "# 21. From arr_2d, get the entire first row [1, 2, 3].\n",
    "arr = arr_2d[0]\n",
    "print(arr)"
   ]
  },
  {
   "cell_type": "code",
   "execution_count": 51,
   "id": "a3c1a053-58e8-482b-9319-1f667f8c9da4",
   "metadata": {},
   "outputs": [
    {
     "name": "stdout",
     "output_type": "stream",
     "text": [
      "[2 5 8]\n"
     ]
    }
   ],
   "source": [
    "# 22. From arr_2d, get the entire second column [2, 5, 8].\n",
    "arr = arr_2d[:,1]\n",
    "print(arr)"
   ]
  },
  {
   "cell_type": "code",
   "execution_count": 54,
   "id": "7e6fd763-9e79-4d54-815c-51a85abb2de7",
   "metadata": {},
   "outputs": [
    {
     "name": "stdout",
     "output_type": "stream",
     "text": [
      "[[1 2]\n",
      " [4 5]]\n"
     ]
    }
   ],
   "source": [
    "# 23. From arr_2d, extract the sub-array [[1, 2], [4, 5]].\n",
    "arr = arr_2d[:2,:2]\n",
    "print(arr)"
   ]
  },
  {
   "cell_type": "code",
   "execution_count": 57,
   "id": "e5c65145-b5a9-4e5e-bffc-903f9dc36809",
   "metadata": {},
   "outputs": [
    {
     "name": "stdout",
     "output_type": "stream",
     "text": [
      "[False False False False False False  True  True  True  True]\n"
     ]
    }
   ],
   "source": [
    "# 24. Create a boolean mask to find all numbers in arr_1d that are greater than 5.\n",
    "mask = arr_1d > 5\n",
    "print(mask)"
   ]
  },
  {
   "cell_type": "code",
   "execution_count": 58,
   "id": "ff1f925d-0024-41a7-8e43-6d501e87451c",
   "metadata": {},
   "outputs": [
    {
     "name": "stdout",
     "output_type": "stream",
     "text": [
      "[6 7 8 9]\n"
     ]
    }
   ],
   "source": [
    "# 25. Use the boolean mask from the previous question to select the actual numbers from arr_1d.\n",
    "print(arr_1d[mask])"
   ]
  },
  {
   "cell_type": "code",
   "execution_count": 60,
   "id": "e29371de-81ba-4c82-946d-fa26d5fa4710",
   "metadata": {},
   "outputs": [
    {
     "name": "stdout",
     "output_type": "stream",
     "text": [
      "[1 3 5 7 9]\n"
     ]
    }
   ],
   "source": [
    "# 26. In one line, select all numbers from arr_2d that are odd. \n",
    "bool_mask = arr_2d % 2 == 1\n",
    "print(arr_2d[bool_mask])"
   ]
  },
  {
   "cell_type": "code",
   "execution_count": 69,
   "id": "548be725-dd3c-4535-9466-047e81dc8b07",
   "metadata": {},
   "outputs": [
    {
     "name": "stdout",
     "output_type": "stream",
     "text": [
      "[0 1 2 3 4 5 0 0 0 0]\n"
     ]
    }
   ],
   "source": [
    "# 27. In arr_1d, replace all values greater than 5 with the value 0. \n",
    "arr_1d[arr_1d > 5] = 0\n",
    "print(arr_1d)"
   ]
  },
  {
   "cell_type": "code",
   "execution_count": 72,
   "id": "88d53358-fbca-4d2e-97c0-2f0f0343e9b9",
   "metadata": {},
   "outputs": [
    {
     "name": "stdout",
     "output_type": "stream",
     "text": [
      "[1 3 7]\n"
     ]
    }
   ],
   "source": [
    "# 28. From arr_1d, select the elements at indices 1, 3, and 7. \n",
    "arr = arr_1d[[1,3,7]]\n",
    "print(arr)"
   ]
  },
  {
   "cell_type": "code",
   "execution_count": 74,
   "id": "5a48653e-f997-4c15-94f5-f012ff62c6bb",
   "metadata": {},
   "outputs": [
    {
     "name": "stdout",
     "output_type": "stream",
     "text": [
      "[[1 2 3]\n",
      " [7 8 9]]\n"
     ]
    }
   ],
   "source": [
    "# 29. From arr_2d, select the first and third rows. \n",
    "arr = arr_2d[[0,2]]\n",
    "print(arr)"
   ]
  },
  {
   "cell_type": "code",
   "execution_count": 80,
   "id": "38b76e3d-163a-4f8c-89b4-e1c5fcacfe8f",
   "metadata": {},
   "outputs": [
    {
     "name": "stdout",
     "output_type": "stream",
     "text": [
      "[0 1 2 3 4 5 6 7 8 9]\n",
      "[0 1 0 0 0 5 6 7 8 9]\n"
     ]
    }
   ],
   "source": [
    "# 30. What is the difference between a slice (view) and a fancy index (copy)? Modify a slice of arr_1d and see if the original changes. \n",
    "print(arr_1d)\n",
    "slice_view = arr_1d[2:5]\n",
    "slice_view[:] = 0\n",
    "print(arr_1d)"
   ]
  },
  {
   "cell_type": "code",
   "execution_count": 82,
   "id": "0f11ae7b-3237-44c9-afd4-4a6c7053da50",
   "metadata": {},
   "outputs": [
    {
     "name": "stdout",
     "output_type": "stream",
     "text": [
      "[[1 2 3]\n",
      " [4 5 6]\n",
      " [7 8 9]]\n",
      "[[10  2  3]\n",
      " [ 4  5  6]\n",
      " [ 7  8  9]]\n"
     ]
    }
   ],
   "source": [
    "# 31. Create a copy of arr_2d and modify an element in the copy. Check if the original array is affected. \n",
    "arr_copy = arr_2d.copy()\n",
    "arr_copy[0,0] = 10\n",
    "print(arr_2d)\n",
    "print(arr_copy)"
   ]
  },
  {
   "cell_type": "code",
   "execution_count": 85,
   "id": "556438bb-cc96-4c8a-8f02-328361f1fa65",
   "metadata": {},
   "outputs": [
    {
     "name": "stdout",
     "output_type": "stream",
     "text": [
      "[1 5 9]\n"
     ]
    }
   ],
   "source": [
    "# 32. From arr_2d, get the diagonal elements [1, 5, 9].\n",
    "arr = np.diag(arr_2d)\n",
    "print(arr)"
   ]
  },
  {
   "cell_type": "code",
   "execution_count": 88,
   "id": "5e71e948-72dd-4c51-9ae9-720f97003c32",
   "metadata": {},
   "outputs": [
    {
     "name": "stdout",
     "output_type": "stream",
     "text": [
      "[[1 2 3]\n",
      " [4 5 6]]\n"
     ]
    }
   ],
   "source": [
    "# 33. Select all rows from arr_2d where the first element is less than 5. \n",
    "arr = arr_2d[arr_2d[:,0] < 5]\n",
    "print(arr)"
   ]
  },
  {
   "cell_type": "code",
   "execution_count": 91,
   "id": "7af521ad-d8e9-4416-b793-203759ab794d",
   "metadata": {},
   "outputs": [
    {
     "name": "stdout",
     "output_type": "stream",
     "text": [
      "[2 4 9]\n"
     ]
    }
   ],
   "source": [
    "# 34. From arr_2d, select the elements [2, 4, 9]. \n",
    "arr = arr_2d[[0, 1, 2], [1, 0, 2]] \n",
    "print(arr)"
   ]
  },
  {
   "cell_type": "code",
   "execution_count": 93,
   "id": "639ca33f-2c9f-4b57-a6be-c133e95416c0",
   "metadata": {},
   "outputs": [
    {
     "name": "stdout",
     "output_type": "stream",
     "text": [
      "[[7 8 9]\n",
      " [4 5 6]\n",
      " [1 2 3]]\n"
     ]
    }
   ],
   "source": [
    "# 35. Reverse the order of the rows in arr_2d. \n",
    "arr = arr_2d[::-1]\n",
    "print(arr)"
   ]
  },
  {
   "cell_type": "markdown",
   "id": "6e78276e-edd4-44ef-a041-818ce6097472",
   "metadata": {},
   "source": [
    "## Part 3: Mathematical & Universal Functions (UFuncs)"
   ]
  },
  {
   "cell_type": "code",
   "execution_count": 99,
   "id": "0c6ab8af-6a69-4b9f-a001-ed223544730f",
   "metadata": {},
   "outputs": [],
   "source": [
    "a = np.array([1, 2, 3, 4]) \n",
    "b = np.array([5, 6, 7, 8]) "
   ]
  },
  {
   "cell_type": "code",
   "execution_count": 101,
   "id": "ce8d75ac-2b36-49a3-8048-9a0fd880c16b",
   "metadata": {},
   "outputs": [
    {
     "name": "stdout",
     "output_type": "stream",
     "text": [
      "[ 6  8 10 12]\n"
     ]
    }
   ],
   "source": [
    "# 36. Add array a and b element-wise.\n",
    "arr = a + b\n",
    "print(arr)"
   ]
  },
  {
   "cell_type": "code",
   "execution_count": 102,
   "id": "3545736d-24d5-4b2b-811c-2c18eb074913",
   "metadata": {},
   "outputs": [
    {
     "name": "stdout",
     "output_type": "stream",
     "text": [
      "[ 3  6  9 12]\n"
     ]
    }
   ],
   "source": [
    "# 37. Multiply array a by 3 (scalar multiplication). \n",
    "arr = a * 3\n",
    "print(arr)"
   ]
  },
  {
   "cell_type": "code",
   "execution_count": 103,
   "id": "3fa98e6c-477d-4c5a-a422-aa68bbf1e84f",
   "metadata": {},
   "outputs": [
    {
     "name": "stdout",
     "output_type": "stream",
     "text": [
      "[ 1  4  9 16]\n"
     ]
    }
   ],
   "source": [
    "# 38. Calculate the square of every element in array a.\n",
    "arr = np.square(a)\n",
    "print(arr)"
   ]
  },
  {
   "cell_type": "code",
   "execution_count": 105,
   "id": "a456e73d-16f3-4d58-bfcb-4d32ac8694d3",
   "metadata": {},
   "outputs": [
    {
     "name": "stdout",
     "output_type": "stream",
     "text": [
      "[2.23606798 2.44948974 2.64575131 2.82842712]\n"
     ]
    }
   ],
   "source": [
    "# 39. Calculate the square root of every element in b. \n",
    "arr = np.sqrt(b)\n",
    "print(arr)"
   ]
  },
  {
   "cell_type": "code",
   "execution_count": 106,
   "id": "8f8f3497-b17f-43ab-bebd-643492b063b5",
   "metadata": {},
   "outputs": [
    {
     "name": "stdout",
     "output_type": "stream",
     "text": [
      "[ 2.71828183  7.3890561  20.08553692 54.59815003]\n"
     ]
    }
   ],
   "source": [
    "# 40. Calculate the exponential (e^x) of every element in a.\n",
    "arr = np.exp(a)\n",
    "print(arr)"
   ]
  },
  {
   "cell_type": "code",
   "execution_count": 107,
   "id": "6db6e07d-008c-400e-a714-9419fb217835",
   "metadata": {},
   "outputs": [
    {
     "name": "stdout",
     "output_type": "stream",
     "text": [
      "10\n"
     ]
    }
   ],
   "source": [
    "# 41. Find the sum of all elements in a.\n",
    "arr = a.sum()\n",
    "print(arr)"
   ]
  },
  {
   "cell_type": "code",
   "execution_count": 108,
   "id": "67ac6dc6-904d-4174-a6ba-bb4c4c7ede30",
   "metadata": {},
   "outputs": [
    {
     "name": "stdout",
     "output_type": "stream",
     "text": [
      "6.5\n"
     ]
    }
   ],
   "source": [
    "# 42. Find the mean of all elements in b.\n",
    "arr = b.mean()\n",
    "print(arr)"
   ]
  },
  {
   "cell_type": "code",
   "execution_count": 109,
   "id": "480a9fbd-dd69-4cc7-8d0b-f31b49d093da",
   "metadata": {},
   "outputs": [
    {
     "name": "stdout",
     "output_type": "stream",
     "text": [
      "4\n"
     ]
    }
   ],
   "source": [
    "# 43. Find the maximum value in a.\n",
    "arr = a.max()\n",
    "print(arr)"
   ]
  },
  {
   "cell_type": "code",
   "execution_count": 110,
   "id": "fd5a4fdb-13a7-48b2-a892-06766c74e68c",
   "metadata": {},
   "outputs": [
    {
     "name": "stdout",
     "output_type": "stream",
     "text": [
      "5\n"
     ]
    }
   ],
   "source": [
    "# 44. Find the minimum value in b. \n",
    "arr = b.min()\n",
    "print(arr)"
   ]
  },
  {
   "cell_type": "code",
   "execution_count": 114,
   "id": "a90d0dfc-1dfe-4734-95c3-44a92805834e",
   "metadata": {},
   "outputs": [
    {
     "name": "stdout",
     "output_type": "stream",
     "text": [
      "[[ 0  1  2  3]\n",
      " [ 4  5  6  7]\n",
      " [ 8  9 10 11]]\n",
      "Sum =  66\n"
     ]
    }
   ],
   "source": [
    "# 45. Given a 2D array matrix = np.arange(12).reshape(3, 4), find the sum of all its elements.\n",
    "matrix = np.arange(12).reshape(3,4)\n",
    "arr = matrix.sum()\n",
    "print(matrix)\n",
    "print(\"Sum = \", arr)"
   ]
  },
  {
   "cell_type": "code",
   "execution_count": 117,
   "id": "53871d8b-9e0b-4f82-90cc-dc50a532ca10",
   "metadata": {},
   "outputs": [
    {
     "name": "stdout",
     "output_type": "stream",
     "text": [
      "[12 15 18 21]\n"
     ]
    }
   ],
   "source": [
    "# 46. For the matrix, find the sum of each column. \n",
    "arr_sum = matrix.sum(axis=0)\n",
    "print(arr_sum)"
   ]
  },
  {
   "cell_type": "code",
   "execution_count": 118,
   "id": "f4f5ca3e-427a-49dc-a187-913b6a1dfe3e",
   "metadata": {},
   "outputs": [
    {
     "name": "stdout",
     "output_type": "stream",
     "text": [
      "[1.5 5.5 9.5]\n"
     ]
    }
   ],
   "source": [
    "# 47. For the matrix, find the mean of each row. \n",
    "arr_mean = matrix.mean(axis=1)\n",
    "print(arr_mean)"
   ]
  },
  {
   "cell_type": "code",
   "execution_count": 119,
   "id": "1c9020d2-f3d2-4df5-a8e3-e1f2bfe39f25",
   "metadata": {},
   "outputs": [
    {
     "name": "stdout",
     "output_type": "stream",
     "text": [
      "[0 4 8]\n"
     ]
    }
   ],
   "source": [
    "# 48. For the matrix, find the minimum value in each row. \n",
    "arr_min = matrix.min(axis=1)\n",
    "print(arr_min)"
   ]
  },
  {
   "cell_type": "code",
   "execution_count": 120,
   "id": "606b9409-de51-41ba-b9f6-fb93831f982a",
   "metadata": {},
   "outputs": [
    {
     "name": "stdout",
     "output_type": "stream",
     "text": [
      "[5 6 7 8]\n"
     ]
    }
   ],
   "source": [
    "# 49. Create a new array by finding which element is larger at each position between a and b.\n",
    "large_arr = np.maximum(a,b)\n",
    "print(large_arr)"
   ]
  },
  {
   "cell_type": "code",
   "execution_count": 121,
   "id": "ce1feef4-67c1-42f8-9f4f-3cd0aea31373",
   "metadata": {},
   "outputs": [
    {
     "name": "stdout",
     "output_type": "stream",
     "text": [
      "[1.5 2.3 3.8]\n",
      "[2. 2. 4.]\n"
     ]
    }
   ],
   "source": [
    "# 50. Round all values in the array arr_float = np.array([1.5, 2.3, 3.8]) to the nearest integer. \n",
    "arr_float = np.array([1.5, 2.3, 3.8])\n",
    "nearest_int = np.round(arr_float)\n",
    "print(arr_float)\n",
    "print(nearest_int)"
   ]
  },
  {
   "cell_type": "code",
   "execution_count": 122,
   "id": "6360c56e-d07d-46f7-a2fd-c27112b7847e",
   "metadata": {},
   "outputs": [
    {
     "name": "stdout",
     "output_type": "stream",
     "text": [
      "1.118033988749895\n"
     ]
    }
   ],
   "source": [
    "# 51. Calculate the standard deviation of array a. \n",
    "std = np.std(a)\n",
    "print(std)"
   ]
  },
  {
   "cell_type": "code",
   "execution_count": 123,
   "id": "b76d9f5b-392c-49f5-a99d-210ccbee31c3",
   "metadata": {},
   "outputs": [
    {
     "name": "stdout",
     "output_type": "stream",
     "text": [
      "[ 1  3  6 10]\n"
     ]
    }
   ],
   "source": [
    "# 52. Calculate the cumulative sum of a. The result should be [1, 3, 6, 10].\n",
    "cumsum = np.cumsum(a)\n",
    "print(cumsum)"
   ]
  },
  {
   "cell_type": "code",
   "execution_count": 124,
   "id": "a2c376f7-e07a-4444-a488-09963b629b4d",
   "metadata": {},
   "outputs": [
    {
     "name": "stdout",
     "output_type": "stream",
     "text": [
      "[False False False False]\n"
     ]
    }
   ],
   "source": [
    "# 53. Compare arrays a and b to see if they are equal element-wise.\n",
    "arr = a == b\n",
    "print(arr)"
   ]
  },
  {
   "cell_type": "code",
   "execution_count": 125,
   "id": "32928fc9-3aad-4332-84e6-723bc244bcf6",
   "metadata": {},
   "outputs": [
    {
     "name": "stdout",
     "output_type": "stream",
     "text": [
      "True\n"
     ]
    }
   ],
   "source": [
    "# 54. Check if any element in the result of a > 2 is True. \n",
    "arr = np.any(a > 2)\n",
    "print(arr)"
   ]
  },
  {
   "cell_type": "code",
   "execution_count": 128,
   "id": "be4ca9a9-4b1d-4b7c-b47f-eaa52fa85050",
   "metadata": {},
   "outputs": [
    {
     "name": "stdout",
     "output_type": "stream",
     "text": [
      "True\n"
     ]
    }
   ],
   "source": [
    "# 55. Check if all elements in b are greater than 4. \n",
    "arr = np.all(b > 4)\n",
    "print(arr)"
   ]
  },
  {
   "cell_type": "markdown",
   "id": "d14d65b2-c21a-4d81-bf00-177ebd44637e",
   "metadata": {},
   "source": [
    "## Part 4: Key Manipulation Techniques "
   ]
  },
  {
   "cell_type": "code",
   "execution_count": 130,
   "id": "f57cb32d-f6b0-431c-a34e-f23437d6a253",
   "metadata": {},
   "outputs": [
    {
     "name": "stdout",
     "output_type": "stream",
     "text": [
      "[[ 0  1  2  3  4]\n",
      " [ 5  6  7  8  9]\n",
      " [10 11 12 13 14]\n",
      " [15 16 17 18 19]]\n"
     ]
    }
   ],
   "source": [
    "# 56. Reshape the 1D array arr = np.arange(20) into a 4x5 matrix. \n",
    "arr = np.arange(20)\n",
    "matrix = arr.reshape(4,5)\n",
    "print(matrix)"
   ]
  },
  {
   "cell_type": "code",
   "execution_count": 133,
   "id": "8806afa8-24ae-4294-9dc3-906888eed925",
   "metadata": {},
   "outputs": [
    {
     "name": "stdout",
     "output_type": "stream",
     "text": [
      "[1 2 3 4]\n"
     ]
    }
   ],
   "source": [
    "# 57. \"Flatten\" the 2D array matrix = np.array([[1,2],[3,4]]) into a 1D array.\n",
    "matrix = np.array([[1,2], [3,4]])\n",
    "arr = matrix.flatten()\n",
    "print(arr)"
   ]
  },
  {
   "cell_type": "code",
   "execution_count": 134,
   "id": "d27c4457-409a-4483-a506-f223a693f52a",
   "metadata": {},
   "outputs": [
    {
     "name": "stdout",
     "output_type": "stream",
     "text": [
      "[[99  2]\n",
      " [ 3  4]]\n",
      "[[99  2]\n",
      " [ 3  4]]\n"
     ]
    }
   ],
   "source": [
    "# 58. What is the main difference between .ravel() and .flatten()?\n",
    "\n",
    "#.ravel() → returns a view of the original array\n",
    "#.flatten() → always returns a copy of the array\n",
    "\n",
    "arr = np.array([[1, 2], [3, 4]])\n",
    "\n",
    "r = arr.ravel()\n",
    "f = arr.flatten()\n",
    "\n",
    "r[0] = 99\n",
    "print(arr)\n",
    "f[0] = 100\n",
    "print(arr)"
   ]
  },
  {
   "cell_type": "code",
   "execution_count": 136,
   "id": "50e1fa84-ee25-43dd-9397-f2e533976c24",
   "metadata": {},
   "outputs": [
    {
     "name": "stdout",
     "output_type": "stream",
     "text": [
      "[[ 0  1  2  3  4]\n",
      " [ 5  6  7  8  9]\n",
      " [10 11 12 13 14]]\n",
      "[[ 0  5 10]\n",
      " [ 1  6 11]\n",
      " [ 2  7 12]\n",
      " [ 3  8 13]\n",
      " [ 4  9 14]]\n"
     ]
    }
   ],
   "source": [
    "# 59. Transpose a 3x5 matrix into a 5x3 matrix.\n",
    "matrix = np.arange(15).reshape(3, 5)  \n",
    "print(matrix)\n",
    "\n",
    "transpose = matrix.T\n",
    "print(transpose)"
   ]
  },
  {
   "cell_type": "code",
   "execution_count": 138,
   "id": "c47833b0-e0ea-4608-b7c6-79238e43fc83",
   "metadata": {},
   "outputs": [
    {
     "name": "stdout",
     "output_type": "stream",
     "text": [
      "[[1. 1. 1.]\n",
      " [1. 1. 1.]\n",
      " [0. 0. 0.]\n",
      " [0. 0. 0.]]\n"
     ]
    }
   ],
   "source": [
    "# 60. Vertically stack the arrays a = np.ones((2,3)) and b = np.zeros((2,3)).\n",
    "a = np.ones((2,3))\n",
    "b = np.zeros((2,3))\n",
    "v_stack = np.vstack((a, b))\n",
    "print(v_stack)"
   ]
  },
  {
   "cell_type": "code",
   "execution_count": 139,
   "id": "56cea887-1629-42a3-9024-d4a2a184f3ee",
   "metadata": {},
   "outputs": [
    {
     "name": "stdout",
     "output_type": "stream",
     "text": [
      "[[1. 1. 1. 0. 0. 0.]\n",
      " [1. 1. 1. 0. 0. 0.]]\n"
     ]
    }
   ],
   "source": [
    "# 61. Horizontally stack the arrays a and b.\n",
    "h_stack = np.hstack((a, b))\n",
    "print(h_stack)"
   ]
  },
  {
   "cell_type": "code",
   "execution_count": 142,
   "id": "e1b4144c-5c91-46ba-bb70-3f2219744bcd",
   "metadata": {},
   "outputs": [
    {
     "name": "stdout",
     "output_type": "stream",
     "text": [
      "[[1. 1. 1.]\n",
      " [1. 1. 1.]\n",
      " [0. 0. 0.]\n",
      " [0. 0. 0.]]\n"
     ]
    }
   ],
   "source": [
    "# 62. Use np.concatenate to achieve the same result as vstack with a and b.\n",
    "vstack = np.concatenate((a,b), axis=0)\n",
    "print(vstack)"
   ]
  },
  {
   "cell_type": "code",
   "execution_count": 145,
   "id": "bf3074c2-8a90-4d65-a237-5efbaf2c5b6e",
   "metadata": {},
   "outputs": [
    {
     "name": "stdout",
     "output_type": "stream",
     "text": [
      "[array([0, 1]), array([2, 3]), array([4, 5]), array([6, 7]), array([8, 9])]\n"
     ]
    }
   ],
   "source": [
    "# 63. Split the array arr = np.arange(10) into 5 equal sub-arrays. \n",
    "arr = np.arange(10)\n",
    "sub_arr = np.split(arr,5)\n",
    "print(sub_arr)"
   ]
  },
  {
   "cell_type": "code",
   "execution_count": 147,
   "id": "6e53d501-f503-44fd-a44e-7a8361c57117",
   "metadata": {},
   "outputs": [
    {
     "name": "stdout",
     "output_type": "stream",
     "text": [
      "[array([[ 0,  1],\n",
      "       [ 4,  5],\n",
      "       [ 8,  9],\n",
      "       [12, 13]]), array([[ 2,  3],\n",
      "       [ 6,  7],\n",
      "       [10, 11],\n",
      "       [14, 15]])]\n"
     ]
    }
   ],
   "source": [
    "# 64. Split the 2D array matrix = np.arange(16).reshape(4,4) horizontally into 2 equal arrays.\n",
    "matrix = np.arange(16).reshape(4,4)\n",
    "arr = np.hsplit(matrix, 2)\n",
    "print(arr)"
   ]
  },
  {
   "cell_type": "code",
   "execution_count": 150,
   "id": "e2d46b2d-de8f-4c42-b255-ec63112e06fb",
   "metadata": {},
   "outputs": [
    {
     "name": "stdout",
     "output_type": "stream",
     "text": [
      "[ 1  2 99  3  4]\n"
     ]
    }
   ],
   "source": [
    "# 65. Insert the value 99 at index 2 in the 1D array arr = np.array([1,2,3,4]). \n",
    "arr = np.array([1,2,3,4])\n",
    "new_arr = np.insert(arr, 2, 99)\n",
    "print(new_arr)"
   ]
  },
  {
   "cell_type": "code",
   "execution_count": 153,
   "id": "f0fadeb3-1cac-4db7-8317-74661a8b0ae7",
   "metadata": {},
   "outputs": [
    {
     "name": "stdout",
     "output_type": "stream",
     "text": [
      "[1 2 3 4 5]\n"
     ]
    }
   ],
   "source": [
    "# 66. Add the value 5 to the end of array arr.\n",
    "new_arr = np.append(arr, 5)\n",
    "print(new_arr)"
   ]
  },
  {
   "cell_type": "code",
   "execution_count": 154,
   "id": "7b37efaf-6474-4903-af3d-e0c89bbf6440",
   "metadata": {},
   "outputs": [
    {
     "name": "stdout",
     "output_type": "stream",
     "text": [
      "[1 2 3 4 5]\n"
     ]
    }
   ],
   "source": [
    "# 67. Get the unique values from the array arr = np.array([1,1,2,3,3,3,4,5]). \n",
    "arr = np.array([1,1,2,3,3,3,4,5])\n",
    "new_arr = np.unique(arr)\n",
    "print(new_arr)"
   ]
  },
  {
   "cell_type": "code",
   "execution_count": 155,
   "id": "0aed1b12-0990-42cf-b232-721a2aad7cc9",
   "metadata": {},
   "outputs": [
    {
     "name": "stdout",
     "output_type": "stream",
     "text": [
      "[1 2 3 1 2 3 1 2 3]\n"
     ]
    }
   ],
   "source": [
    "# 68. Repeat the array [1,2,3] three times to get [1,2,3,1,2,3,1,2,3]. \n",
    "arr = np.array([1,2,3])\n",
    "new_arr = np.tile(arr, 3)\n",
    "print(new_arr)"
   ]
  },
  {
   "cell_type": "code",
   "execution_count": 156,
   "id": "698a885e-71aa-4387-bbad-a2dc34e7c592",
   "metadata": {},
   "outputs": [
    {
     "name": "stdout",
     "output_type": "stream",
     "text": [
      "[1 1 1 2 2 2 3 3 3]\n"
     ]
    }
   ],
   "source": [
    "# 69. Repeat each element of [1,2,3] three times to get [1,1,1,2,2,2,3,3,3]. \n",
    "new_arr = np.repeat(arr, 3)\n",
    "print(new_arr)"
   ]
  },
  {
   "cell_type": "code",
   "execution_count": 163,
   "id": "1b3c3c12-c07e-4d2e-a3d2-217dcc1dff83",
   "metadata": {},
   "outputs": [
    {
     "name": "stdout",
     "output_type": "stream",
     "text": [
      "[[2 1 0]\n",
      " [5 4 3]\n",
      " [8 7 6]]\n"
     ]
    }
   ],
   "source": [
    "# 70. Flip an array horizontally (left to right). \n",
    "arr = np.arange(0,9).reshape(3,3)\n",
    "new_arr = np.fliplr(arr)\n",
    "print(new_arr)"
   ]
  },
  {
   "cell_type": "markdown",
   "id": "fccbf628-de6b-4636-aa93-2aac5c910a2a",
   "metadata": {},
   "source": [
    "## Part 5: Broadcasting & Conditional Logic"
   ]
  },
  {
   "cell_type": "code",
   "execution_count": 165,
   "id": "914dd47d-4247-490c-a9d2-6977d3f0d41e",
   "metadata": {},
   "outputs": [
    {
     "name": "stdout",
     "output_type": "stream",
     "text": [
      "[[2. 3. 4.]\n",
      " [2. 3. 4.]\n",
      " [2. 3. 4.]\n",
      " [2. 3. 4.]]\n"
     ]
    }
   ],
   "source": [
    "# 71. Add a 1D array v = np.array([1, 2, 3]) to each row of a 2D array M = np.ones((4,3)). What is this concept called? \n",
    "\n",
    "# this is broadcasting in numpy\n",
    "v = np.array([1,2,3])\n",
    "m = np.ones((4,3))\n",
    "arr = m + v\n",
    "print(arr)"
   ]
  },
  {
   "cell_type": "code",
   "execution_count": 168,
   "id": "b7b475c7-90e4-4365-a868-38ef7c931aa0",
   "metadata": {},
   "outputs": [
    {
     "name": "stdout",
     "output_type": "stream",
     "text": [
      "Array =  [[1 2 3]\n",
      " [4 5 6]\n",
      " [7 8 9]]\n",
      "Vector =  [10 20 30]\n",
      "New Array =  [[11 22 33]\n",
      " [14 25 36]\n",
      " [17 28 39]]\n"
     ]
    }
   ],
   "source": [
    "# 72. Can you add a (3,3) matrix and a (3,) vector? If so, how does it work? \n",
    "\n",
    "# yes\n",
    "\n",
    "arr = np.arange(1,10).reshape(3,3)\n",
    "vec = np.array([10,20,30])\n",
    "new_arr = vec + arr\n",
    "print(\"Array = \",arr)\n",
    "print(\"Vector = \",vec)\n",
    "print(\"New Array = \",new_arr)"
   ]
  },
  {
   "cell_type": "code",
   "execution_count": 171,
   "id": "a3e53336-3f86-4514-a663-3afd6764ad95",
   "metadata": {},
   "outputs": [
    {
     "name": "stdout",
     "output_type": "stream",
     "text": [
      "[[1 2 3]\n",
      " [4 5 6]\n",
      " [7 8 9]]\n",
      "[[1]\n",
      " [2]\n",
      " [3]]\n",
      "[[ 2  3  4]\n",
      " [ 6  7  8]\n",
      " [10 11 12]]\n"
     ]
    }
   ],
   "source": [
    "# 73. Can you add a (3,3) matrix and a (3,1) matrix? \n",
    "\n",
    "#yes\n",
    "matrix1 = np.arange(1,10).reshape(3,3)\n",
    "matrix2 = np.arange(1,4).reshape(3,1)\n",
    "\n",
    "arr = matrix1 + matrix2\n",
    "print(matrix1)\n",
    "print(matrix2)\n",
    "print(arr)"
   ]
  },
  {
   "cell_type": "code",
   "execution_count": 172,
   "id": "5f759c90-6458-4d7d-88d9-c9903ef3557a",
   "metadata": {},
   "outputs": [
    {
     "name": "stdout",
     "output_type": "stream",
     "text": [
      "[0 1 2 3 4 5 6 7 8 9]\n",
      "[0 0 0 0 0 5 6 7 8 9]\n"
     ]
    }
   ],
   "source": [
    "# 74. Create a 1D array arr = np.arange(10). Use np.where to create a new array where values are 0 if the original value was less than 5, and the original value otherwise.\n",
    "arr = np.arange(10)\n",
    "new_arr = np.where(arr < 5, 0, arr)\n",
    "print(arr)\n",
    "print(new_arr)"
   ]
  },
  {
   "cell_type": "code",
   "execution_count": 173,
   "id": "2b31a3f7-43a9-49f6-bcf8-797997d953d3",
   "metadata": {},
   "outputs": [
    {
     "name": "stdout",
     "output_type": "stream",
     "text": [
      "[0 1 2 3 4 5 6 7 8 9]\n",
      "[0 1 0 1 0 1 0 1 0 1]\n"
     ]
    }
   ],
   "source": [
    "# 75. Use np.where to create a new array from arr where even numbers are replaced by 0 and odd numbers by 1.\n",
    "new_arr = np.where(arr % 2 == 0, 0, 1)\n",
    "\n",
    "print(arr)\n",
    "print(new_arr)"
   ]
  },
  {
   "cell_type": "code",
   "execution_count": 178,
   "id": "de65d6b9-2846-4e5e-9c59-37299cf84bdf",
   "metadata": {},
   "outputs": [
    {
     "name": "stdout",
     "output_type": "stream",
     "text": [
      "[[21 87 46 62 95]\n",
      " [31 48 37 70 94]\n",
      " [14 38 52 87 62]\n",
      " [25 31 63 61 45]\n",
      " [50 71  3 43  7]]\n",
      "[[21 50 46 50 50]\n",
      " [31 48 37 50 50]\n",
      " [14 38 50 50 50]\n",
      " [25 31 50 50 45]\n",
      " [50 50  3 43  7]]\n"
     ]
    }
   ],
   "source": [
    "# 76. Create a 5x5 array of random integers. Use np.where to replace all values greater than 50 with the value 50. \n",
    "arr = np.random.randint(0,101, (5,5))\n",
    "new_arr = np.where(arr > 50, 50, arr)\n",
    "print(arr)\n",
    "print(new_arr)"
   ]
  },
  {
   "cell_type": "code",
   "execution_count": 181,
   "id": "db20bd42-9b31-433b-9077-f0210e313ebb",
   "metadata": {},
   "outputs": [
    {
     "name": "stdout",
     "output_type": "stream",
     "text": [
      "[ 1  2  3  4  5  6  7  8  9 10]\n",
      "[ 1  2  9 10]\n"
     ]
    }
   ],
   "source": [
    "# 77. Create a 1D array from 1 to 10. Extract all numbers that are either less than 3 or greater than 8.\n",
    "arr = np.arange(1,11)\n",
    "val = arr[(arr < 3) | (arr > 8)]\n",
    "print(arr)\n",
    "print(val)"
   ]
  },
  {
   "cell_type": "code",
   "execution_count": 183,
   "id": "ba08f9c5-a9f5-4e82-91d1-b32217b04c84",
   "metadata": {},
   "outputs": [
    {
     "name": "stdout",
     "output_type": "stream",
     "text": [
      "(4x1 array) [[1]\n",
      " [2]\n",
      " [3]\n",
      " [4]]\n",
      "(1,5 array) [[1 2 3 4 5]]\n",
      "New array [[2 3 4 5 6]\n",
      " [3 4 5 6 7]\n",
      " [4 5 6 7 8]\n",
      " [5 6 7 8 9]]\n"
     ]
    }
   ],
   "source": [
    "# 78. What will be the result of adding a (4,1) array to a (1,5) array? \n",
    "arr1 = np.arange(1,5).reshape(4,1)\n",
    "arr2 = np.arange(1,6).reshape(1,5)\n",
    "\n",
    "new_arr = arr1 + arr2\n",
    "print(\"(4x1 array)\",arr1)\n",
    "print(\"(1,5 array)\",arr2)\n",
    "print(\"New array\",new_arr)"
   ]
  },
  {
   "cell_type": "code",
   "execution_count": 184,
   "id": "c9c643dd-c689-4007-ae0a-96c90694756b",
   "metadata": {},
   "outputs": [
    {
     "name": "stdout",
     "output_type": "stream",
     "text": [
      "[[ 50  77  55   4  41]\n",
      " [ 93  30  14  36  89]\n",
      " [ 11  62  66  12  30]\n",
      " [ 92  86  69  73 100]\n",
      " [ 44  95  98  43  51]]\n",
      "[[48.06953936 75.06953936 53.06953936  2.06953936 39.06953936]\n",
      " [91.06953936 28.06953936 12.06953936 34.06953936 87.06953936]\n",
      " [ 9.06953936 60.06953936 64.06953936 10.06953936 28.06953936]\n",
      " [90.06953936 84.06953936 67.06953936 71.06953936 98.06953936]\n",
      " [42.06953936 93.06953936 96.06953936 41.06953936 49.06953936]]\n"
     ]
    }
   ],
   "source": [
    "# 79. Normalize a 5x5 random matrix (subtract the mean and divide by the standard deviation).\n",
    "\n",
    "matrix = np.random.randint(0,101, (5,5))\n",
    "mean = matrix.mean()\n",
    "std = matrix.std()\n",
    "\n",
    "normalized_matrix = matrix - mean / std\n",
    "print(matrix)\n",
    "print(normalized_matrix)"
   ]
  },
  {
   "cell_type": "code",
   "execution_count": 185,
   "id": "02bccc2c-1261-4f2d-ac3b-ed672ee80479",
   "metadata": {},
   "outputs": [
    {
     "name": "stdout",
     "output_type": "stream",
     "text": [
      "[[1 2 3 4]\n",
      " [1 2 3 4]\n",
      " [1 2 3 4]\n",
      " [1 2 3 4]\n",
      " [1 2 3 4]]\n"
     ]
    }
   ],
   "source": [
    "# 80. Given a 1D array, create a 2D array where each row is a copy of the original array.\n",
    "arr = np.array([1, 2, 3, 4])\n",
    "rows = 5\n",
    "result = np.tile(arr, (rows, 1))\n",
    "\n",
    "print(result)"
   ]
  },
  {
   "cell_type": "markdown",
   "id": "286dbb2c-6c40-44cd-81b1-cffc317c62e7",
   "metadata": {},
   "source": [
    "## Part 6: Statistics, Sorting, & Searching"
   ]
  },
  {
   "cell_type": "code",
   "execution_count": 189,
   "id": "320f4ea8-4925-42ff-8b05-4e39b2fac33a",
   "metadata": {},
   "outputs": [
    {
     "name": "stdout",
     "output_type": "stream",
     "text": [
      "[58 72 31 47 74 36 68 50 83  5]\n",
      "[ 5 31 36 47 50 58 68 72 74 83]\n"
     ]
    }
   ],
   "source": [
    "# 81. Create a 1D array of 10 random integers and sort it in ascending order.\n",
    "arr = np.random.randint(1,101,10)\n",
    "sort = np.sort(arr)\n",
    "print(arr)\n",
    "print(sort)"
   ]
  },
  {
   "cell_type": "code",
   "execution_count": 191,
   "id": "e3b8fde4-afb5-487d-90b4-c451f9fe18f2",
   "metadata": {},
   "outputs": [
    {
     "name": "stdout",
     "output_type": "stream",
     "text": [
      "np.sort [1 2 3 4]\n",
      "Original array after np.sort [3 1 4 2]\n",
      "arr.sort() [1 2 3 4]\n"
     ]
    }
   ],
   "source": [
    "# 82. What is the difference between np.sort(arr) and arr.sort()?\n",
    "arr = np.array([3, 1, 4, 2])\n",
    "sorted_arr = np.sort(arr)\n",
    "print(\"np.sort\", sorted_arr)\n",
    "print(\"Original array after np.sort\", arr)\n",
    "\n",
    "arr.sort()\n",
    "print(\"arr.sort()\", arr)"
   ]
  },
  {
   "cell_type": "code",
   "execution_count": 195,
   "id": "417efee7-c431-4f89-8390-161687131a54",
   "metadata": {},
   "outputs": [
    {
     "name": "stdout",
     "output_type": "stream",
     "text": [
      "[1 3 0 2]\n"
     ]
    }
   ],
   "source": [
    "# 83. Find the indices that would sort the array arr = np.array([3, 1, 4, 2]). \n",
    "arr = np.array([3, 1, 4, 2])\n",
    "indices = np.argsort(arr)\n",
    "print(indices)"
   ]
  },
  {
   "cell_type": "code",
   "execution_count": 193,
   "id": "62f6b5fb-17ad-4936-be7f-890ceb9354b2",
   "metadata": {},
   "outputs": [
    {
     "name": "stdout",
     "output_type": "stream",
     "text": [
      "2\n"
     ]
    }
   ],
   "source": [
    "# 84. Find the index of the maximum value in arr.\n",
    "index = np.argmax(arr)\n",
    "print(index)"
   ]
  },
  {
   "cell_type": "code",
   "execution_count": 197,
   "id": "d3611a08-9695-496e-9f61-3f4204945849",
   "metadata": {},
   "outputs": [
    {
     "name": "stdout",
     "output_type": "stream",
     "text": [
      "1\n"
     ]
    }
   ],
   "source": [
    "# 85. Find the index of the minimum value in arr. \n",
    "min_index = np.argmin(arr)\n",
    "print(min_index)"
   ]
  },
  {
   "cell_type": "code",
   "execution_count": 198,
   "id": "7cc9b170-b504-480a-b628-5604920e8905",
   "metadata": {},
   "outputs": [
    {
     "name": "stdout",
     "output_type": "stream",
     "text": [
      "[[1 2 3]\n",
      " [4 5 6]\n",
      " [7 8 9]]\n",
      "[2 2 2]\n"
     ]
    }
   ],
   "source": [
    "# 86. In a 2D array, find the index of the maximum value in each column.\n",
    "arr = np.arange(1,10).reshape(3,3)\n",
    "max_indices = np.argmax(arr, axis=0)\n",
    "print(arr)\n",
    "print(max_indices)"
   ]
  },
  {
   "cell_type": "code",
   "execution_count": 199,
   "id": "8b76ebc0-384c-4a4f-a116-6121dab050d5",
   "metadata": {},
   "outputs": [
    {
     "name": "stdout",
     "output_type": "stream",
     "text": [
      "Unique values [1 2 3]\n",
      "Counts [2 2 3]\n"
     ]
    }
   ],
   "source": [
    "# 87. Find the unique values and their counts in the array arr = np.array([1, 2, 2, 3, 3, 3, 1]).\n",
    "arr = np.array([1, 2, 2, 3, 3, 3, 1])\n",
    "\n",
    "unique_values, counts = np.unique(arr, return_counts=True)\n",
    "print(\"Unique values\", unique_values)\n",
    "print(\"Counts\", counts)"
   ]
  },
  {
   "cell_type": "code",
   "execution_count": 200,
   "id": "6be8d979-20f7-42f3-8fbd-220ec2e26056",
   "metadata": {},
   "outputs": [
    {
     "name": "stdout",
     "output_type": "stream",
     "text": [
      "[2 3]\n"
     ]
    }
   ],
   "source": [
    "# 88. Find the common elements between two arrays a = np.array([1,2,3]) and b = np.array([2,3,4]).\n",
    "a = np.array([1, 2, 3])\n",
    "b = np.array([2, 3, 4])\n",
    "\n",
    "common_elements = np.intersect1d(a, b)\n",
    "print(common_elements)"
   ]
  },
  {
   "cell_type": "code",
   "execution_count": 201,
   "id": "2a78d6e3-5136-4160-958d-978e8cf93174",
   "metadata": {},
   "outputs": [
    {
     "name": "stdout",
     "output_type": "stream",
     "text": [
      "[1]\n"
     ]
    }
   ],
   "source": [
    "# 89. Find the elements in a that are not in b. \n",
    "unique_el = np.setdiff1d(a,b)\n",
    "print(unique_el)"
   ]
  },
  {
   "cell_type": "code",
   "execution_count": 203,
   "id": "4c559861-2cf2-4cef-97b9-2472f6f060bd",
   "metadata": {},
   "outputs": [
    {
     "name": "stdout",
     "output_type": "stream",
     "text": [
      "[69 69 58 36 90 62 23 33 31 57]\n",
      "57.5\n"
     ]
    }
   ],
   "source": [
    "# 91. Find the 50th percentile (median) of a random array. \n",
    "arr = np.random.randint(0, 101, 10)\n",
    "median = np.median(arr)\n",
    "print(arr)\n",
    "print(median)"
   ]
  },
  {
   "cell_type": "code",
   "execution_count": 204,
   "id": "fb332ea8-3163-41ed-9c06-78da0548dcf3",
   "metadata": {},
   "outputs": [
    {
     "name": "stdout",
     "output_type": "stream",
     "text": [
      "32.5\n",
      "77.5\n"
     ]
    }
   ],
   "source": [
    "# 92. Find the 25th and 75th percentiles of an array. \n",
    "arr = np.array([10, 20, 30, 40, 50, 60, 70, 80, 90, 100])\n",
    "p1 = np.percentile(arr, 25)\n",
    "p2 = np.percentile(arr, 75)\n",
    "\n",
    "print(p1)\n",
    "print(p2)"
   ]
  },
  {
   "cell_type": "code",
   "execution_count": 205,
   "id": "9dd99409-edeb-45c2-9a0c-1a987c659167",
   "metadata": {},
   "outputs": [
    {
     "name": "stdout",
     "output_type": "stream",
     "text": [
      "[0 2 4]\n",
      "[1 2 3]\n"
     ]
    }
   ],
   "source": [
    "# 93. Find all non-zero elements in the array [1, 0, 2, 0, 3].\n",
    "arr = np.array([1, 0, 2, 0, 3])\n",
    "\n",
    "indices = np.nonzero(arr)\n",
    "non_zero_values = arr[indices]\n",
    "print(indices[0])\n",
    "print(non_zero_values)"
   ]
  },
  {
   "cell_type": "code",
   "execution_count": 206,
   "id": "fae1902b-0dd5-43a8-b3d1-0a8618df7dc3",
   "metadata": {},
   "outputs": [
    {
     "name": "stdout",
     "output_type": "stream",
     "text": [
      "[False  True False  True False]\n",
      "[2 4]\n"
     ]
    }
   ],
   "source": [
    "# 94. Check which elements of array a are present in array b.\n",
    "a = np.array([1, 2, 3, 4, 5])\n",
    "b = np.array([2, 4, 6])\n",
    "\n",
    "mask = np.isin(a, b)\n",
    "common = a[mask]\n",
    "print(mask)\n",
    "print(common)"
   ]
  },
  {
   "cell_type": "code",
   "execution_count": 207,
   "id": "244cd7b7-1676-47d3-a683-55e208ef8b7a",
   "metadata": {},
   "outputs": [
    {
     "name": "stdout",
     "output_type": "stream",
     "text": [
      "[50 80 90]\n"
     ]
    }
   ],
   "source": [
    "# 95. Find the top 3 largest values from a 1D array.\n",
    "arr = np.array([10, 50, 20, 80, 30, 90, 40])\n",
    "\n",
    "top3 = np.partition(arr, -3)[-3:]\n",
    "top3_sorted = np.sort(top3)\n",
    "print(top3_sorted)"
   ]
  },
  {
   "cell_type": "markdown",
   "id": "928a2007-97f1-46d2-8935-b9670eaaffca",
   "metadata": {},
   "source": [
    "## Part 7: Practical Applications (Linear Algebra & I/O) "
   ]
  },
  {
   "cell_type": "code",
   "execution_count": 208,
   "id": "4f947d93-0db7-4e5b-948e-fbc350ff1ca8",
   "metadata": {},
   "outputs": [
    {
     "name": "stdout",
     "output_type": "stream",
     "text": [
      "[[19 22]\n",
      " [43 50]]\n"
     ]
    }
   ],
   "source": [
    "# 96. Create a 2x2 matrix A and a 2x2 matrix B. Perform matrix multiplication.\n",
    "A = np.array([[1, 2],\n",
    "              [3, 4]])\n",
    "\n",
    "B = np.array([[5, 6],\n",
    "              [7, 8]])\n",
    "\n",
    "C = np.dot(A, B)\n",
    "print(C)"
   ]
  },
  {
   "cell_type": "code",
   "execution_count": 209,
   "id": "9c1625c3-b774-4103-9304-bbc02267c221",
   "metadata": {},
   "outputs": [
    {
     "name": "stdout",
     "output_type": "stream",
     "text": [
      "[[-2.   1. ]\n",
      " [ 1.5 -0.5]]\n"
     ]
    }
   ],
   "source": [
    "# 97. Find the inverse of matrix A. \n",
    "A = np.array([[1, 2],\n",
    "              [3, 4]])\n",
    "\n",
    "A_inv = np.linalg.inv(A)\n",
    "print(A_inv)"
   ]
  },
  {
   "cell_type": "code",
   "execution_count": 210,
   "id": "15b8832d-ae46-4724-8672-4c9457c10cab",
   "metadata": {},
   "outputs": [
    {
     "name": "stdout",
     "output_type": "stream",
     "text": [
      "-2.000000000000005\n"
     ]
    }
   ],
   "source": [
    "# 98. Find the determinant of matrix B. \n",
    "B = np.array([[5, 6],\n",
    "              [7, 8]])\n",
    "\n",
    "det_B = np.linalg.det(B)\n",
    "print(det_B)"
   ]
  },
  {
   "cell_type": "code",
   "execution_count": 214,
   "id": "76550199-eaad-46dd-893f-8e0766a0fc1a",
   "metadata": {},
   "outputs": [],
   "source": [
    "# 99. Save a NumPy array to a binary file named my_array.npy. \n",
    "arr = np.array([1, 2, 3, 4, 5])\n",
    "np.save('my_array.npy', arr)"
   ]
  },
  {
   "cell_type": "code",
   "execution_count": 215,
   "id": "bf3434bd-0b1c-4b4b-9d0c-183b2c0d8d51",
   "metadata": {},
   "outputs": [
    {
     "name": "stdout",
     "output_type": "stream",
     "text": [
      "[1 2 3 4 5]\n"
     ]
    }
   ],
   "source": [
    "# 100. Load the array from my_array.npy. \n",
    "load_arr = np.load('my_array.npy')\n",
    "\n",
    "print(load_arr)"
   ]
  },
  {
   "cell_type": "code",
   "execution_count": 216,
   "id": "eb6be9a5-c25a-4952-bce3-19655b2f431c",
   "metadata": {},
   "outputs": [
    {
     "name": "stdout",
     "output_type": "stream",
     "text": [
      "Matrix saved to my_matrix.csv\n"
     ]
    }
   ],
   "source": [
    "# 101. Save a 2D array to a text file my_matrix.csv with comma-separated values.\n",
    "matrix = np.array([[1, 2, 3],\n",
    "                      [4, 5, 6],\n",
    "                      [7, 8, 9]])\n",
    "\n",
    "np.savetxt(\"my_matrix.csv\", matrix, delimiter=\",\", fmt=\"%d\")\n",
    "\n",
    "print(\"Matrix saved to my_matrix.csv\")"
   ]
  }
 ],
 "metadata": {
  "kernelspec": {
   "display_name": "Python 3 (ipykernel)",
   "language": "python",
   "name": "python3"
  },
  "language_info": {
   "codemirror_mode": {
    "name": "ipython",
    "version": 3
   },
   "file_extension": ".py",
   "mimetype": "text/x-python",
   "name": "python",
   "nbconvert_exporter": "python",
   "pygments_lexer": "ipython3",
   "version": "3.13.7"
  }
 },
 "nbformat": 4,
 "nbformat_minor": 5
}
